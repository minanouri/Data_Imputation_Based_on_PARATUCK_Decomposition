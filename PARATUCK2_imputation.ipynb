{
 "cells": [
  {
   "cell_type": "code",
   "execution_count": null,
   "id": "5601014c",
   "metadata": {},
   "outputs": [],
   "source": [
    "import numpy as np\n",
    "import pandas as pd"
   ]
  },
  {
   "cell_type": "code",
   "execution_count": null,
   "id": "bd4ec3c1",
   "metadata": {},
   "outputs": [],
   "source": [
    "# read the data matrix\n",
    "X = pd.read_csv('masked_matrix.csv').to_numpy()\n",
    "orig_X = pd.read_csv('original_matrix.csv').to_numpy()"
   ]
  },
  {
   "cell_type": "code",
   "execution_count": null,
   "id": "cfcf8464",
   "metadata": {},
   "outputs": [],
   "source": [
    "# PARATUCK2 imputer\n",
    "def PARATUCK2(X, n_LatCom, regParam):\n",
    "    \n",
    "    # parameters and random initialization\n",
    "    maxIter = 200; eps = 1e-5; n, m = X.shape; p, q = n_LatCom\n",
    "    A = np.random.randn(n, p) / p\n",
    "    R = np.random.randn(p, q) \n",
    "    B = np.random.randn(m, q) / q\n",
    "    \n",
    "    # binary matrix of observed and not observed values\n",
    "    Z = ~np.isnan(X); Z = Z.astype(np.float64, copy=False)\n",
    "    \n",
    "    # ALS algorithm\n",
    "    X = np.nan_to_num(X, copy=True)\n",
    "    M = np.zeros((p*q, p*q))\n",
    "    N = np.zeros((p, q))\n",
    "    RMSE = [np.linalg.norm(Z * (X - np.matmul(np.matmul(A, R), B.T)), 'fro') / np.sqrt(np.sum(Z))]\n",
    "    for iter in range(maxIter):\n",
    "        # update A\n",
    "        for i, zi in enumerate(Z):\n",
    "            A[i] = np.linalg.solve(np.matmul(R, np.matmul(np.matmul(B.T, np.matmul(np.diag(zi), B)), R.T)) + \n",
    "                                   regParam * np.eye(p), np.matmul(R, np.matmul(B.T, X[i].T))).T\n",
    "        # update R   \n",
    "        for k, zk in enumerate(Z):\n",
    "            M = M + np.kron(np.matmul(B.T, np.matmul(np.diag(zk), B)), np.outer(A[k], A[k]))\n",
    "            N = N + np.outer(A[k].T, np.matmul(X[k], B))\n",
    "        R_vec = np.linalg.solve(M, N.flatten(order='F'))\n",
    "        R = R_vec.reshape((p, q), order='F')\n",
    "        # update B\n",
    "        for j, zj in enumerate(Z.T):\n",
    "            B[j] = np.linalg.solve(np.matmul(R.T, np.matmul(np.matmul(A.T, np.matmul(np.diag(zj), A)), R)) + \n",
    "                                   regParam * np.eye(q), np.matmul(R.T, np.matmul(A.T, X[:, j]))).T\n",
    "        # stop criterion\n",
    "        RMSE.append(np.linalg.norm(Z * (X - np.matmul(np.matmul(A, R), B.T)), 'fro') / np.sqrt(np.sum(Z)))\n",
    "        if abs(RMSE[iter+1]-RMSE[iter]) <= eps:\n",
    "            break\n",
    "    # imputed matrix\n",
    "    X_hat = np.matmul(np.matmul(A, R), B.T)\n",
    "    \n",
    "    return X_hat, A, R, B"
   ]
  },
  {
   "cell_type": "code",
   "execution_count": null,
   "id": "88d8620c",
   "metadata": {},
   "outputs": [],
   "source": [
    "# call the function\n",
    "X_hat, A, R, B = PARATUCK2(X, (5, 7), 200)\n",
    "print(X_hat)"
   ]
  },
  {
   "cell_type": "code",
   "execution_count": null,
   "id": "6b6244bd",
   "metadata": {},
   "outputs": [],
   "source": [
    "# claculate validation error\n",
    "x_hat = X_hat[np.logical_and(np.isnan(X), ~np.isnan(orig_X))]\n",
    "x = orig_X[np.logical_and(np.isnan(X), ~np.isnan(orig_X))]\n",
    "\n",
    "np.median(np.divide(np.abs((x - x_hat)), x))"
   ]
  }
 ],
 "metadata": {
  "kernelspec": {
   "display_name": "Python 3",
   "language": "python",
   "name": "python3"
  },
  "language_info": {
   "codemirror_mode": {
    "name": "ipython",
    "version": 3
   },
   "file_extension": ".py",
   "mimetype": "text/x-python",
   "name": "python",
   "nbconvert_exporter": "python",
   "pygments_lexer": "ipython3",
   "version": "3.7.7"
  }
 },
 "nbformat": 4,
 "nbformat_minor": 5
}
