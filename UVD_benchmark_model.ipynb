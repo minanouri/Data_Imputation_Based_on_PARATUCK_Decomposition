{
 "cells": [
  {
   "cell_type": "code",
   "execution_count": null,
   "id": "56900d52",
   "metadata": {},
   "outputs": [],
   "source": [
    "import numpy as np"
   ]
  },
  {
   "cell_type": "code",
   "execution_count": null,
   "id": "63f0ffc6",
   "metadata": {},
   "outputs": [],
   "source": [
    "# UVD imputer\n",
    "def UVD(X, lowRank, regParam):\n",
    "    \n",
    "    # parameters and random initialization\n",
    "    maxIter = 200; eps = 1e-5; n, m = X.shape\n",
    "    U = np.random.rand(n, lowRank) / lowRank\n",
    "    V = np.random.rand(m, lowRank) / lowRank\n",
    "    \n",
    "    # binary matrix of observed and not observed values\n",
    "    B = ~np.isnan(X); B = B.astype(np.float64, copy=False)\n",
    "    \n",
    "    # ALS algorithm\n",
    "    X = np.nan_to_num(X, copy=True)\n",
    "    RMSE = [np.linalg.norm(B * (X - np.matmul(U, V.T)), 'fro') / np.sqrt(np.sum(B))]\n",
    "    for iter in range(maxIter):\n",
    "        # update U\n",
    "        for i, bi in enumerate(B):\n",
    "            U[i] = np.linalg.solve(np.matmul(V.T, np.matmul(np.diag(bi), V)) + regParam * np.eye(lowRank), \n",
    "                                   np.matmul(V.T, X[i].T)).T\n",
    "        # update V\n",
    "        for j, bj in enumerate(B.T):\n",
    "            V[j] = np.linalg.solve(np.matmul(U.T, np.matmul(np.diag(bj), U)) + regParam * np.eye(lowRank), \n",
    "                                   np.matmul(U.T, X[:, j])).T\n",
    "        # stop criterion\n",
    "        RMSE.append(np.linalg.norm(B * (X - np.matmul(U, V.T)), 'fro') / np.sqrt(np.sum(B)))\n",
    "        if abs(RMSE[iter+1]-RMSE[iter]) <= eps:\n",
    "            break\n",
    "    # imputed matrix\n",
    "    X_hat = np.matmul(U, V.T)\n",
    "    \n",
    "    return X_hat, U, V"
   ]
  }
 ],
 "metadata": {
  "kernelspec": {
   "display_name": "Python 3",
   "language": "python",
   "name": "python3"
  },
  "language_info": {
   "codemirror_mode": {
    "name": "ipython",
    "version": 3
   },
   "file_extension": ".py",
   "mimetype": "text/x-python",
   "name": "python",
   "nbconvert_exporter": "python",
   "pygments_lexer": "ipython3",
   "version": "3.7.7"
  }
 },
 "nbformat": 4,
 "nbformat_minor": 5
}
